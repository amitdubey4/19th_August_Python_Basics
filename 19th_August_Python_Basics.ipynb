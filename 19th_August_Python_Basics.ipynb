{
 "cells": [
  {
   "cell_type": "markdown",
   "id": "c2023c37-b36a-48b2-b642-74f1e37d15e0",
   "metadata": {},
   "source": [
    "Declare two variables, `x` and `y`, and assign them integer values. Swap the\n",
    "values of these variables without using any temporary variable."
   ]
  },
  {
   "cell_type": "code",
   "execution_count": 1,
   "id": "e79fb772-bf77-4e18-9289-0e5868c886fe",
   "metadata": {},
   "outputs": [
    {
     "name": "stdout",
     "output_type": "stream",
     "text": [
      "a =  23\n",
      "b =  34\n",
      "a =  34\n",
      "b =  23\n"
     ]
    }
   ],
   "source": [
    "a = 23\n",
    "b = 34\n",
    "print(\"a = \",a)\n",
    "print(\"b = \",b)\n",
    "a = a + b     \n",
    "b = a - b    \n",
    "a = a - b     \n",
    "print(\"a = \",a)\n",
    "print(\"b = \",b)\n"
   ]
  },
  {
   "cell_type": "markdown",
   "id": "1cbbeef1-8a32-4b85-84dd-758c37c2ae14",
   "metadata": {},
   "source": [
    "Create a program that calculates the area of a rectangle. Take the length and\n",
    "width as inputs from the user and store them in variables. Calculate and\n",
    "display the area."
   ]
  },
  {
   "cell_type": "code",
   "execution_count": 1,
   "id": "661f5df4-87db-418e-a919-5f05c9407b2b",
   "metadata": {},
   "outputs": [
    {
     "name": "stdin",
     "output_type": "stream",
     "text": [
      "Please enter the length:  10\n",
      "Please enter the width:  10\n"
     ]
    },
    {
     "name": "stdout",
     "output_type": "stream",
     "text": [
      "the area of a rectangle is: 100.0\n"
     ]
    }
   ],
   "source": [
    "length = float(input('Please enter the length: '))\n",
    "width = float(input('Please enter the width: '))\n",
    "\n",
    "Area = length * width\n",
    "print(f'the area of a rectangle is: {Area}')"
   ]
  },
  {
   "cell_type": "markdown",
   "id": "78f96c12-77ce-4499-9bc9-a04df1f26f27",
   "metadata": {},
   "source": [
    "Write a Python program that converts temperatures from Celsius to\n",
    "Fahrenheit. Take the temperature in Celsius as input, store it in a variable,\n",
    "convert it to Fahrenheit, and display the result."
   ]
  },
  {
   "cell_type": "code",
   "execution_count": 4,
   "id": "22269c24-22e1-4092-bdca-373f31cbf202",
   "metadata": {},
   "outputs": [
    {
     "name": "stdin",
     "output_type": "stream",
     "text": [
      "Please enter the temperature in celsius: 20\n"
     ]
    },
    {
     "name": "stdout",
     "output_type": "stream",
     "text": [
      "You have entered 20.0 Celsius which is 68.0 Fahrenheit\n"
     ]
    }
   ],
   "source": [
    "cel = float(input('Please enter the temperature in celsius:'))\n",
    "fah = (cel * 9/5) + 32\n",
    "print(f'You have entered {cel} Celsius which is {fah} Fahrenheit')"
   ]
  },
  {
   "cell_type": "markdown",
   "id": "8edb7ca1-7344-4fc6-8eb4-f02642cbb6ef",
   "metadata": {},
   "source": [
    "TOPIC: String Based Questions"
   ]
  },
  {
   "cell_type": "markdown",
   "id": "57779db6-6c4b-44c6-a09c-e265d5806055",
   "metadata": {},
   "source": [
    "Write a Python program that takes a string as input and prints the length of\n",
    "the string."
   ]
  },
  {
   "cell_type": "code",
   "execution_count": 1,
   "id": "6e899a0a-7785-46e7-93e1-88baacdc659d",
   "metadata": {},
   "outputs": [
    {
     "name": "stdin",
     "output_type": "stream",
     "text": [
      "Please enter a string: amit\n"
     ]
    },
    {
     "name": "stdout",
     "output_type": "stream",
     "text": [
      "Length of the string is: 4\n"
     ]
    }
   ],
   "source": [
    "Str = input('Please enter a string:')\n",
    "print('Length of the string is:', len(Str))"
   ]
  },
  {
   "cell_type": "markdown",
   "id": "3ed20c8b-e817-41fe-8d10-3ceaf804c0e6",
   "metadata": {},
   "source": [
    "Create a program that takes a sentence from the user and counts the number\n",
    "of vowels (a, e, i, o, u) in the string."
   ]
  },
  {
   "cell_type": "code",
   "execution_count": 3,
   "id": "40724d0a-7ae8-4c8c-9b03-d528d4c7d1b8",
   "metadata": {},
   "outputs": [
    {
     "name": "stdin",
     "output_type": "stream",
     "text": [
      "Please enter a sentence: hello\n"
     ]
    },
    {
     "name": "stdout",
     "output_type": "stream",
     "text": [
      "In \"hello\" there are total 2 vowels.\n"
     ]
    }
   ],
   "source": [
    "s1 = input('Please enter a sentence:')\n",
    "c = 0\n",
    "\n",
    "for i in range(len(s1)):\n",
    "    if(s1[i] in 'AaEeIiOoUu'):\n",
    "        c+=1;\n",
    "print(f'In \"{s1}\" there are total {c} vowels.')"
   ]
  },
  {
   "cell_type": "markdown",
   "id": "10ef5de5-4abf-4d99-bc85-fcc60a53fe01",
   "metadata": {},
   "source": [
    "3. Given a string, reverse the order of characters using string slicing and print\n",
    "the reversed string."
   ]
  },
  {
   "cell_type": "code",
   "execution_count": 7,
   "id": "3e063715-977d-4766-a4c9-ffb79615b038",
   "metadata": {},
   "outputs": [
    {
     "name": "stdout",
     "output_type": "stream",
     "text": [
      "Reversed string: ecneics ATAD\n"
     ]
    }
   ],
   "source": [
    "s1 = \"DATA science\"\n",
    "print(\"Reversed string:\",s1[::-1])"
   ]
  },
  {
   "cell_type": "markdown",
   "id": "bf7cc1ef-fb55-4373-bb5a-8c64df944aed",
   "metadata": {},
   "source": [
    "4. Write a program that takes a string as input and checks if it is a palindrome\n",
    "(reads the same forwards and backwards)."
   ]
  },
  {
   "cell_type": "code",
   "execution_count": 56,
   "id": "6f45ad7e-3ba7-4c60-9caf-66bc8dc68532",
   "metadata": {},
   "outputs": [
    {
     "name": "stdin",
     "output_type": "stream",
     "text": [
      "Please enter a string: adda\n"
     ]
    },
    {
     "name": "stdout",
     "output_type": "stream",
     "text": [
      "Palindrome\n"
     ]
    }
   ],
   "source": [
    "s1 = input(\"Please enter a string:\")\n",
    "start = 0\n",
    "last = len(s1)-1\n",
    "c = 0\n",
    "while (start < last):\n",
    "    if (s1[start] != s1[last]):\n",
    "        c = 1;\n",
    "        break;\n",
    "    start +=1;\n",
    "    last -=1;\n",
    "if (c == 1):\n",
    "    print(\"Not palindrome\")\n",
    "else:\n",
    "    print(\"Palindrome\")"
   ]
  },
  {
   "cell_type": "markdown",
   "id": "017b5e64-58e6-4a78-a730-13309d907918",
   "metadata": {},
   "source": [
    "5. Create a program that takes a string as input and removes all the spaces from\n",
    "it. Print the modified string without spaces."
   ]
  },
  {
   "cell_type": "code",
   "execution_count": 55,
   "id": "73d22bd2-1197-4945-a94f-85dd9bfc0816",
   "metadata": {},
   "outputs": [
    {
     "name": "stdin",
     "output_type": "stream",
     "text": [
      "Enter a string: jh khf\n"
     ]
    },
    {
     "name": "stdout",
     "output_type": "stream",
     "text": [
      "jhkhf\n"
     ]
    }
   ],
   "source": [
    "s1 = input(\"Enter a string:\")\n",
    "s2 = \"\"\n",
    "for i in s1:\n",
    "    if(i != \" \"):\n",
    "        s2 = s2 + i\n",
    "print(s2)"
   ]
  }
 ],
 "metadata": {
  "kernelspec": {
   "display_name": "Python 3 (ipykernel)",
   "language": "python",
   "name": "python3"
  },
  "language_info": {
   "codemirror_mode": {
    "name": "ipython",
    "version": 3
   },
   "file_extension": ".py",
   "mimetype": "text/x-python",
   "name": "python",
   "nbconvert_exporter": "python",
   "pygments_lexer": "ipython3",
   "version": "3.10.8"
  }
 },
 "nbformat": 4,
 "nbformat_minor": 5
}
